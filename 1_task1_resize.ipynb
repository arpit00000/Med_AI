{
 "cells": [
  {
   "cell_type": "markdown",
   "metadata": {},
   "source": [
    "# Task 1:  Resizing"
   ]
  },
  {
   "cell_type": "markdown",
   "metadata": {},
   "source": [
    "### Infornmation\n",
    "This code used to resize the training samples to a unified height and width."
   ]
  },
  {
   "cell_type": "code",
   "execution_count": 1,
   "metadata": {},
   "outputs": [],
   "source": [
    "import glob\n",
    "from PIL import Image\n",
    "import numpy as np\n",
    "import matplotlib.pyplot as plt\n",
    "import seaborn as sns\n",
    "import os\n",
    "os.environ['KMP_DUPLICATE_LIB_OK']='True' #this line is to avoid a kernel die problem that caused by matplotlib\n",
    "\n",
    "\n"
   ]
  },
  {
   "cell_type": "code",
   "execution_count": 2,
   "metadata": {},
   "outputs": [],
   "source": [
    "#this function is to double check the image and masks fine names consistency\n",
    "def match_im_msk(img_files,msk_files):\n",
    "    \n",
    "    pure_img_names=[]\n",
    "    pure_msk_names=[]\n",
    "\n",
    "    for im in img_files:\n",
    "        pure_img_names+= [os.path.basename(im)]\n",
    "    for msk in msk_files:\n",
    "        pure_msk_names+= [os.path.basename(msk)]\n",
    "    \n",
    "    return(pure_img_names==pure_msk_names)"
   ]
  },
  {
   "cell_type": "code",
   "execution_count": 3,
   "metadata": {},
   "outputs": [
    {
     "data": {
      "text/plain": [
       "True"
      ]
     },
     "execution_count": 3,
     "metadata": {},
     "output_type": "execute_result"
    }
   ],
   "source": [
    "# loading training data\n",
    "data_dir = \"./data/task1/original/\"\n",
    "\n",
    "img_files = glob.glob(data_dir+\"images/*.jpg\")\n",
    "msk_files=glob.glob(data_dir+\"masks/*.jpg\")\n",
    "match_im_msk(img_files,msk_files)"
   ]
  },
  {
   "cell_type": "code",
   "execution_count": 5,
   "metadata": {},
   "outputs": [],
   "source": [
    "# fetch the image sizes to decide the unified resizing H and W\n",
    "image_sizes=[]\n",
    "mask_sizes=[]\n",
    "for im in img_files[:2]:\n",
    "    image = Image.open(im)\n",
    "    image_sizes+=[list(image.size)]\n",
    "\n",
    "for msk in msk_files[:2]:\n",
    "    mask = Image.open(msk)\n",
    "    mask_sizes+=[list(mask.size)]\n",
    "#match_im_msk(image_sizes,mask_sizes)"
   ]
  },
  {
   "cell_type": "code",
   "execution_count": 5,
   "metadata": {},
   "outputs": [
    {
     "name": "stdout",
     "output_type": "stream",
     "text": [
      "H median 620\n",
      "W median 530\n"
     ]
    },
    {
     "data": {
      "image/png": "[encoded data removed]",
      "text/plain": [
       "<Figure size 432x288 with 2 Axes>"
      ]
     },
     "metadata": {
      "needs_background": "light"
     },
     "output_type": "display_data"
    },
    {
     "data": {
      "image/png": "[encoded data removed]",
      "text/plain": [
       "<Figure size 432x288 with 2 Axes>"
      ]
     },
     "metadata": {
      "needs_background": "light"
     },
     "output_type": "display_data"
    }
   ],
   "source": [
    "# Check the stats of the height and width\n",
    "median_w =int(np.quantile(np.array(image_sizes)[:,0],0.5)/10)*10\n",
    "median_h =int(np.quantile(np.array(image_sizes)[:,1],0.5)/10)*10\n",
    "print(\"H median\",median_w)\n",
    "print(\"W median\",median_h)\n",
    "\n",
    "fig, (ax1, ax2) = plt.subplots(1, 2)\n",
    "ax1.hist(np.array(image_sizes)[:,0],bins=20);\n",
    "ax2.hist(np.array(image_sizes)[:,1],bins=20);\n",
    "plt.show()\n",
    "\n",
    "fig, (ax1, ax2) = plt.subplots(1, 2)\n",
    "ax1.boxplot(np.array(image_sizes)[:,0]);\n",
    "ax1.violinplot(np.array(image_sizes)[:,0]);\n",
    "\n",
    "ax2.boxplot(np.array(image_sizes)[:,1]);\n",
    "ax2.violinplot(np.array(image_sizes)[:,1]);\n",
    "plt.show()\n"
   ]
  },
  {
   "cell_type": "code",
   "execution_count": 6,
   "metadata": {},
   "outputs": [],
   "source": [
    "# A function that takes an image/mask and save the resized version of it\n",
    "def resize_images(file_names,target_w,target_h,save_path):\n",
    "    for i,f in enumerate(file_names):\n",
    "        img = Image.open(f)\n",
    "        img2 = img.resize((target_w,target_h), Image.ANTIALIAS)\n",
    "        im_file_name=os.path.basename(f)\n",
    "        img2.save(save_path+im_file_name)\n",
    "    print(i+1,\"files resized\")\n"
   ]
  },
  {
   "cell_type": "code",
   "execution_count": 7,
   "metadata": {},
   "outputs": [
    {
     "name": "stdout",
     "output_type": "stream",
     "text": [
      "1000 files resized\n",
      "1000 files resized\n"
     ]
    }
   ],
   "source": [
    "#decided to set the Hand W to 512\n",
    "target_h=512\n",
    "target_w=512\n",
    "resized_folder=\"./data/task1/resized/\"\n",
    "resize_images(img_files,target_w,target_h,save_path=resized_folder+\"images/\")\n",
    "resize_images(msk_files,target_w,target_h,resized_folder+\"masks/\")"
   ]
  }
 ],
 "metadata": {
  "kernelspec": {
   "display_name": "Python 3",
   "language": "python",
   "name": "python3"
  },
  "language_info": {
   "codemirror_mode": {
    "name": "ipython",
    "version": 3
   },
   "file_extension": ".py",
   "mimetype": "text/x-python",
   "name": "python",
   "nbconvert_exporter": "python",
   "pygments_lexer": "ipython3",
   "version": "3.8.5"
  }
 },
 "nbformat": 4,
 "nbformat_minor": 4
}
